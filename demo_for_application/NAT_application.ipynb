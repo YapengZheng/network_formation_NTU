{
 "cells": [
  {
   "cell_type": "code",
   "execution_count": 1,
   "metadata": {},
   "outputs": [],
   "source": [
    "import estimation as est\n",
    "import pandas as pd"
   ]
  },
  {
   "cell_type": "code",
   "execution_count": 2,
   "metadata": {},
   "outputs": [
    {
     "name": "stdout",
     "output_type": "stream",
     "text": [
      "*************************** Coef. ************************\n",
      "                beta      sd    pval  95p lower  95p upper\n",
      "d_log_wealth -0.0777  0.0641  0.2257    -0.2033     0.0480\n",
      "log_distance -0.8187  0.0536  0.0000    -0.9238    -0.7136\n",
      "tie           0.5817  0.0556  0.0000     0.4726     0.6907\n",
      "*************************** APE **************************\n",
      "                 APE      sd    pval  95p lower  95p upper\n",
      "d_log_wealth -0.0065  0.0052  0.2124    -0.0167     0.0037\n",
      "log_distance -0.0576  0.0065  0.0000    -0.0703    -0.0450\n",
      "tie           0.0514  0.0059  0.0000     0.0399     0.0628\n",
      "*************************** FEs histogram ************************\n"
     ]
    },
    {
     "data": {
      "image/png": "[encoded data removed]",
      "text/plain": [
       "<Figure size 400x300 with 1 Axes>"
      ]
     },
     "metadata": {},
     "output_type": "display_data"
    }
   ],
   "source": [
    "data = pd.read_stata('network_Na_panel.dta') # data should should have N rows, where N = n(n-1)/2 and n is the number of nodes; one of the variables should be the network link\n",
    "y_name = 'link' # the link variable name\n",
    "X_name = ['d_log_wealth', 'log_distance', 'tie'] # the covariates you want to specify\n",
    "# input pandas dataframe, the name of the link variable, the names of the covariates; plot_alpha is an optional argument, if True, the function will plot the estimated alpha values\n",
    "NTU_result = est.NTU_est(data, y_name, X_name, plot_alpha=True) # return 1: coefficient estimates, standard errors and p-values. return 2: average partial effects, standard errors and p-values. return 3: the moment estimator for fixed effects [alpha_hat(beta_bg)  in the paper].\n",
    "coef_est = NTU_result[0]\n",
    "ape_est = NTU_result[1]\n",
    "alpha_est = NTU_result[2]"
   ]
  }
 ],
 "metadata": {
  "kernelspec": {
   "display_name": "base",
   "language": "python",
   "name": "python3"
  },
  "language_info": {
   "codemirror_mode": {
    "name": "ipython",
    "version": 3
   },
   "file_extension": ".py",
   "mimetype": "text/x-python",
   "name": "python",
   "nbconvert_exporter": "python",
   "pygments_lexer": "ipython3",
   "version": "3.12.4"
  }
 },
 "nbformat": 4,
 "nbformat_minor": 2
}
